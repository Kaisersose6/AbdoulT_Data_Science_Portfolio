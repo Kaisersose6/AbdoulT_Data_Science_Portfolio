{
 "cells": [
  {
   "cell_type": "markdown",
   "id": "6db80af0",
   "metadata": {
    "papermill": {
     "duration": 0.001003,
     "end_time": "2025-07-23T19:45:25.949956",
     "exception": false,
     "start_time": "2025-07-23T19:45:25.948953",
     "status": "completed"
    },
    "tags": []
   },
   "source": [
    "# Data Preprocessing\n",
    "\n",
    "To access claim data via an API in a production-like scenario, you’d typically:\n",
    "\n",
    " - Authenticate with the API (via API key or OAuth).\n",
    "\n",
    " - Send a GET or POST request to fetch claim data.\n",
    "\n",
    " - Transform and use the data in your model.\n",
    "\n",
    " - Below is a realistic Python example that simulates fetching insurance claim data via API, using requests. \n",
    "  \n",
    " - For illustration, we'll use a placeholder API URL—you can plug in the real endpoint and auth method when available."
   ]
  },
  {
   "cell_type": "code",
   "execution_count": 1,
   "id": "575b3a6f",
   "metadata": {
    "execution": {
     "iopub.execute_input": "2025-07-23T19:45:25.964597Z",
     "iopub.status.busy": "2025-07-23T19:45:25.964597Z",
     "iopub.status.idle": "2025-07-23T19:45:25.966866Z",
     "shell.execute_reply": "2025-07-23T19:45:25.966866Z"
    },
    "papermill": {
     "duration": 0.007399,
     "end_time": "2025-07-23T19:45:25.966866",
     "exception": false,
     "start_time": "2025-07-23T19:45:25.959467",
     "status": "completed"
    },
    "tags": []
   },
   "outputs": [],
   "source": [
    "# Install required packages\n",
    "\n",
    "# %pip install -r ./requirements.txt"
   ]
  },
  {
   "cell_type": "code",
   "execution_count": 2,
   "id": "0f8bb091",
   "metadata": {
    "execution": {
     "iopub.execute_input": "2025-07-23T19:45:25.977382Z",
     "iopub.status.busy": "2025-07-23T19:45:25.977382Z",
     "iopub.status.idle": "2025-07-23T19:45:25.980847Z",
     "shell.execute_reply": "2025-07-23T19:45:25.980847Z"
    },
    "papermill": {
     "duration": 0.012476,
     "end_time": "2025-07-23T19:45:25.981851",
     "exception": false,
     "start_time": "2025-07-23T19:45:25.969375",
     "status": "completed"
    },
    "tags": []
   },
   "outputs": [
    {
     "name": "stdout",
     "output_type": "stream",
     "text": [
      "['insurance_claims.csv', 'preprocessor.pkl', 'text_data.csv', 'X_structured.csv', 'y.csv']\n"
     ]
    }
   ],
   "source": [
    "import os\n",
    "print(os.listdir('../data'))"
   ]
  },
  {
   "cell_type": "code",
   "execution_count": 3,
   "id": "e48e5a01",
   "metadata": {
    "execution": {
     "iopub.execute_input": "2025-07-23T19:45:25.990300Z",
     "iopub.status.busy": "2025-07-23T19:45:25.990300Z",
     "iopub.status.idle": "2025-07-23T19:45:26.530006Z",
     "shell.execute_reply": "2025-07-23T19:45:26.530006Z"
    },
    "papermill": {
     "duration": 0.546155,
     "end_time": "2025-07-23T19:45:26.530006",
     "exception": false,
     "start_time": "2025-07-23T19:45:25.983851",
     "status": "completed"
    },
    "tags": []
   },
   "outputs": [],
   "source": [
    "import pandas as pd\n",
    "from sklearn.model_selection import train_test_split\n",
    "import numpy as np\n",
    "\n",
    "# Load structured data\n",
    "df = pd.read_csv('../data/insurance_claims.csv')\n"
   ]
  },
  {
   "cell_type": "code",
   "execution_count": 4,
   "id": "f7b29018",
   "metadata": {
    "execution": {
     "iopub.execute_input": "2025-07-23T19:45:26.545059Z",
     "iopub.status.busy": "2025-07-23T19:45:26.544058Z",
     "iopub.status.idle": "2025-07-23T19:45:26.547217Z",
     "shell.execute_reply": "2025-07-23T19:45:26.547217Z"
    },
    "papermill": {
     "duration": 0.014704,
     "end_time": "2025-07-23T19:45:26.547217",
     "exception": false,
     "start_time": "2025-07-23T19:45:26.532513",
     "status": "completed"
    },
    "tags": []
   },
   "outputs": [],
   "source": [
    "# Create a binary fraud label\n",
    "df['fraud_reported'] = df['fraud_reported'].map({'Y': 1, 'N': 0})"
   ]
  },
  {
   "cell_type": "code",
   "execution_count": 5,
   "id": "d747fe3b",
   "metadata": {
    "execution": {
     "iopub.execute_input": "2025-07-23T19:45:26.557264Z",
     "iopub.status.busy": "2025-07-23T19:45:26.557264Z",
     "iopub.status.idle": "2025-07-23T19:45:26.562761Z",
     "shell.execute_reply": "2025-07-23T19:45:26.562761Z"
    },
    "papermill": {
     "duration": 0.012541,
     "end_time": "2025-07-23T19:45:26.562761",
     "exception": false,
     "start_time": "2025-07-23T19:45:26.550220",
     "status": "completed"
    },
    "tags": []
   },
   "outputs": [
    {
     "name": "stdout",
     "output_type": "stream",
     "text": [
      "   months_as_customer  age  policy_number policy_bind_date policy_state  \\\n",
      "0                 328   48         521585       2014-10-17           OH   \n",
      "1                 228   42         342868       2006-06-27           IN   \n",
      "2                 134   29         687698       2000-09-06           OH   \n",
      "3                 256   41         227811       1990-05-25           IL   \n",
      "4                 228   44         367455       2014-06-06           IL   \n",
      "\n",
      "  policy_csl  policy_deductable  policy_annual_premium  umbrella_limit  \\\n",
      "0    250/500               1000                1406.91               0   \n",
      "1    250/500               2000                1197.22         5000000   \n",
      "2    100/300               2000                1413.14         5000000   \n",
      "3    250/500               2000                1415.74         6000000   \n",
      "4   500/1000               1000                1583.91         6000000   \n",
      "\n",
      "   insured_zip  ... police_report_available total_claim_amount injury_claim  \\\n",
      "0       466132  ...                     YES              71610         6510   \n",
      "1       468176  ...                       ?               5070          780   \n",
      "2       430632  ...                      NO              34650         7700   \n",
      "3       608117  ...                      NO              63400         6340   \n",
      "4       610706  ...                      NO               6500         1300   \n",
      "\n",
      "  property_claim vehicle_claim  auto_make  auto_model auto_year  \\\n",
      "0          13020         52080       Saab         92x      2004   \n",
      "1            780          3510   Mercedes        E400      2007   \n",
      "2           3850         23100      Dodge         RAM      2007   \n",
      "3           6340         50720  Chevrolet       Tahoe      2014   \n",
      "4            650          4550     Accura         RSX      2009   \n",
      "\n",
      "  fraud_reported _c39  \n",
      "0              1  NaN  \n",
      "1              1  NaN  \n",
      "2              0  NaN  \n",
      "3              1  NaN  \n",
      "4              0  NaN  \n",
      "\n",
      "[5 rows x 40 columns]\n"
     ]
    }
   ],
   "source": [
    "print(df.head())"
   ]
  },
  {
   "cell_type": "code",
   "execution_count": 6,
   "id": "1fd694a1",
   "metadata": {
    "execution": {
     "iopub.execute_input": "2025-07-23T19:45:26.570794Z",
     "iopub.status.busy": "2025-07-23T19:45:26.570794Z",
     "iopub.status.idle": "2025-07-23T19:45:26.576794Z",
     "shell.execute_reply": "2025-07-23T19:45:26.576794Z"
    },
    "papermill": {
     "duration": 0.01203,
     "end_time": "2025-07-23T19:45:26.576794",
     "exception": false,
     "start_time": "2025-07-23T19:45:26.564764",
     "status": "completed"
    },
    "tags": []
   },
   "outputs": [
    {
     "name": "stdout",
     "output_type": "stream",
     "text": [
      "<class 'pandas.core.frame.DataFrame'>\n",
      "RangeIndex: 1000 entries, 0 to 999\n",
      "Data columns (total 40 columns):\n",
      " #   Column                       Non-Null Count  Dtype  \n",
      "---  ------                       --------------  -----  \n",
      " 0   months_as_customer           1000 non-null   int64  \n",
      " 1   age                          1000 non-null   int64  \n",
      " 2   policy_number                1000 non-null   int64  \n",
      " 3   policy_bind_date             1000 non-null   object \n",
      " 4   policy_state                 1000 non-null   object \n",
      " 5   policy_csl                   1000 non-null   object \n",
      " 6   policy_deductable            1000 non-null   int64  \n",
      " 7   policy_annual_premium        1000 non-null   float64\n",
      " 8   umbrella_limit               1000 non-null   int64  \n",
      " 9   insured_zip                  1000 non-null   int64  \n",
      " 10  insured_sex                  1000 non-null   object \n",
      " 11  insured_education_level      1000 non-null   object \n",
      " 12  insured_occupation           1000 non-null   object \n",
      " 13  insured_hobbies              1000 non-null   object \n",
      " 14  insured_relationship         1000 non-null   object \n",
      " 15  capital-gains                1000 non-null   int64  \n",
      " 16  capital-loss                 1000 non-null   int64  \n",
      " 17  incident_date                1000 non-null   object \n",
      " 18  incident_type                1000 non-null   object \n",
      " 19  collision_type               1000 non-null   object \n",
      " 20  incident_severity            1000 non-null   object \n",
      " 21  authorities_contacted        909 non-null    object \n",
      " 22  incident_state               1000 non-null   object \n",
      " 23  incident_city                1000 non-null   object \n",
      " 24  incident_location            1000 non-null   object \n",
      " 25  incident_hour_of_the_day     1000 non-null   int64  \n",
      " 26  number_of_vehicles_involved  1000 non-null   int64  \n",
      " 27  property_damage              1000 non-null   object \n",
      " 28  bodily_injuries              1000 non-null   int64  \n",
      " 29  witnesses                    1000 non-null   int64  \n",
      " 30  police_report_available      1000 non-null   object \n",
      " 31  total_claim_amount           1000 non-null   int64  \n",
      " 32  injury_claim                 1000 non-null   int64  \n",
      " 33  property_claim               1000 non-null   int64  \n",
      " 34  vehicle_claim                1000 non-null   int64  \n",
      " 35  auto_make                    1000 non-null   object \n",
      " 36  auto_model                   1000 non-null   object \n",
      " 37  auto_year                    1000 non-null   int64  \n",
      " 38  fraud_reported               1000 non-null   int64  \n",
      " 39  _c39                         0 non-null      float64\n",
      "dtypes: float64(2), int64(18), object(20)\n",
      "memory usage: 312.6+ KB\n",
      "None\n"
     ]
    }
   ],
   "source": [
    "print(df.info())             # Column types and nulls"
   ]
  },
  {
   "cell_type": "code",
   "execution_count": 7,
   "id": "0c317e13",
   "metadata": {
    "execution": {
     "iopub.execute_input": "2025-07-23T19:45:26.584451Z",
     "iopub.status.busy": "2025-07-23T19:45:26.584451Z",
     "iopub.status.idle": "2025-07-23T19:45:26.600383Z",
     "shell.execute_reply": "2025-07-23T19:45:26.600383Z"
    },
    "papermill": {
     "duration": 0.021432,
     "end_time": "2025-07-23T19:45:26.600383",
     "exception": false,
     "start_time": "2025-07-23T19:45:26.578951",
     "status": "completed"
    },
    "tags": []
   },
   "outputs": [
    {
     "name": "stdout",
     "output_type": "stream",
     "text": [
      "       months_as_customer          age  policy_number  policy_deductable  \\\n",
      "count         1000.000000  1000.000000    1000.000000        1000.000000   \n",
      "mean           203.954000    38.948000  546238.648000        1136.000000   \n",
      "std            115.113174     9.140287  257063.005276         611.864673   \n",
      "min              0.000000    19.000000  100804.000000         500.000000   \n",
      "25%            115.750000    32.000000  335980.250000         500.000000   \n",
      "50%            199.500000    38.000000  533135.000000        1000.000000   \n",
      "75%            276.250000    44.000000  759099.750000        2000.000000   \n",
      "max            479.000000    64.000000  999435.000000        2000.000000   \n",
      "\n",
      "       policy_annual_premium  umbrella_limit    insured_zip  capital-gains  \\\n",
      "count            1000.000000    1.000000e+03    1000.000000    1000.000000   \n",
      "mean             1256.406150    1.101000e+06  501214.488000   25126.100000   \n",
      "std               244.167395    2.297407e+06   71701.610941   27872.187708   \n",
      "min               433.330000   -1.000000e+06  430104.000000       0.000000   \n",
      "25%              1089.607500    0.000000e+00  448404.500000       0.000000   \n",
      "50%              1257.200000    0.000000e+00  466445.500000       0.000000   \n",
      "75%              1415.695000    0.000000e+00  603251.000000   51025.000000   \n",
      "max              2047.590000    1.000000e+07  620962.000000  100500.000000   \n",
      "\n",
      "        capital-loss  incident_hour_of_the_day  number_of_vehicles_involved  \\\n",
      "count    1000.000000               1000.000000                   1000.00000   \n",
      "mean   -26793.700000                 11.644000                      1.83900   \n",
      "std     28104.096686                  6.951373                      1.01888   \n",
      "min   -111100.000000                  0.000000                      1.00000   \n",
      "25%    -51500.000000                  6.000000                      1.00000   \n",
      "50%    -23250.000000                 12.000000                      1.00000   \n",
      "75%         0.000000                 17.000000                      3.00000   \n",
      "max         0.000000                 23.000000                      4.00000   \n",
      "\n",
      "       bodily_injuries    witnesses  total_claim_amount  injury_claim  \\\n",
      "count      1000.000000  1000.000000          1000.00000   1000.000000   \n",
      "mean          0.992000     1.487000         52761.94000   7433.420000   \n",
      "std           0.820127     1.111335         26401.53319   4880.951853   \n",
      "min           0.000000     0.000000           100.00000      0.000000   \n",
      "25%           0.000000     1.000000         41812.50000   4295.000000   \n",
      "50%           1.000000     1.000000         58055.00000   6775.000000   \n",
      "75%           2.000000     2.000000         70592.50000  11305.000000   \n",
      "max           2.000000     3.000000        114920.00000  21450.000000   \n",
      "\n",
      "       property_claim  vehicle_claim    auto_year  fraud_reported  _c39  \n",
      "count     1000.000000    1000.000000  1000.000000     1000.000000   0.0  \n",
      "mean      7399.570000   37928.950000  2005.103000        0.247000   NaN  \n",
      "std       4824.726179   18886.252893     6.015861        0.431483   NaN  \n",
      "min          0.000000      70.000000  1995.000000        0.000000   NaN  \n",
      "25%       4445.000000   30292.500000  2000.000000        0.000000   NaN  \n",
      "50%       6750.000000   42100.000000  2005.000000        0.000000   NaN  \n",
      "75%      10885.000000   50822.500000  2010.000000        0.000000   NaN  \n",
      "max      23670.000000   79560.000000  2015.000000        1.000000   NaN  \n"
     ]
    }
   ],
   "source": [
    "# Summary stats\n",
    "print(df.describe())         "
   ]
  },
  {
   "cell_type": "code",
   "execution_count": 8,
   "id": "7cf5e02a",
   "metadata": {
    "execution": {
     "iopub.execute_input": "2025-07-23T19:45:26.626015Z",
     "iopub.status.busy": "2025-07-23T19:45:26.625013Z",
     "iopub.status.idle": "2025-07-23T19:45:26.629293Z",
     "shell.execute_reply": "2025-07-23T19:45:26.629293Z"
    },
    "papermill": {
     "duration": 0.026796,
     "end_time": "2025-07-23T19:45:26.629293",
     "exception": false,
     "start_time": "2025-07-23T19:45:26.602497",
     "status": "completed"
    },
    "tags": []
   },
   "outputs": [
    {
     "name": "stdout",
     "output_type": "stream",
     "text": [
      "months_as_customer                0\n",
      "age                               0\n",
      "policy_number                     0\n",
      "policy_bind_date                  0\n",
      "policy_state                      0\n",
      "policy_csl                        0\n",
      "policy_deductable                 0\n",
      "policy_annual_premium             0\n",
      "umbrella_limit                    0\n",
      "insured_zip                       0\n",
      "insured_sex                       0\n",
      "insured_education_level           0\n",
      "insured_occupation                0\n",
      "insured_hobbies                   0\n",
      "insured_relationship              0\n",
      "capital-gains                     0\n",
      "capital-loss                      0\n",
      "incident_date                     0\n",
      "incident_type                     0\n",
      "collision_type                    0\n",
      "incident_severity                 0\n",
      "authorities_contacted            91\n",
      "incident_state                    0\n",
      "incident_city                     0\n",
      "incident_location                 0\n",
      "incident_hour_of_the_day          0\n",
      "number_of_vehicles_involved       0\n",
      "property_damage                   0\n",
      "bodily_injuries                   0\n",
      "witnesses                         0\n",
      "police_report_available           0\n",
      "total_claim_amount                0\n",
      "injury_claim                      0\n",
      "property_claim                    0\n",
      "vehicle_claim                     0\n",
      "auto_make                         0\n",
      "auto_model                        0\n",
      "auto_year                         0\n",
      "fraud_reported                    0\n",
      "_c39                           1000\n",
      "dtype: int64\n"
     ]
    }
   ],
   "source": [
    "# Missing value counts\n",
    "print(df.isnull().sum())     "
   ]
  },
  {
   "cell_type": "code",
   "execution_count": 9,
   "id": "7a1fd2d5",
   "metadata": {
    "execution": {
     "iopub.execute_input": "2025-07-23T19:45:26.638801Z",
     "iopub.status.busy": "2025-07-23T19:45:26.638801Z",
     "iopub.status.idle": "2025-07-23T19:45:26.641185Z",
     "shell.execute_reply": "2025-07-23T19:45:26.641185Z"
    },
    "papermill": {
     "duration": 0.009888,
     "end_time": "2025-07-23T19:45:26.641185",
     "exception": false,
     "start_time": "2025-07-23T19:45:26.631297",
     "status": "completed"
    },
    "tags": []
   },
   "outputs": [],
   "source": [
    "# Simulate free-text field\n",
    "df['claim_description'] = df['incident_type'] + ' reported on ' + df['incident_date'] + '. ' + df['incident_severity']"
   ]
  },
  {
   "cell_type": "code",
   "execution_count": 10,
   "id": "11a5910f",
   "metadata": {
    "execution": {
     "iopub.execute_input": "2025-07-23T19:45:26.649695Z",
     "iopub.status.busy": "2025-07-23T19:45:26.649695Z",
     "iopub.status.idle": "2025-07-23T19:45:26.653207Z",
     "shell.execute_reply": "2025-07-23T19:45:26.653207Z"
    },
    "papermill": {
     "duration": 0.009513,
     "end_time": "2025-07-23T19:45:26.653207",
     "exception": false,
     "start_time": "2025-07-23T19:45:26.643694",
     "status": "completed"
    },
    "tags": []
   },
   "outputs": [],
   "source": [
    "# Split\n",
    "X_structured = df.drop(columns=['fraud_reported', 'claim_description', '_c39'])\n",
    "y = df['fraud_reported']\n",
    "text_data = df['claim_description']"
   ]
  },
  {
   "cell_type": "code",
   "execution_count": 11,
   "id": "6b3062ea",
   "metadata": {
    "execution": {
     "iopub.execute_input": "2025-07-23T19:45:26.669912Z",
     "iopub.status.busy": "2025-07-23T19:45:26.669912Z",
     "iopub.status.idle": "2025-07-23T19:45:26.678277Z",
     "shell.execute_reply": "2025-07-23T19:45:26.678277Z"
    },
    "papermill": {
     "duration": 0.016878,
     "end_time": "2025-07-23T19:45:26.678277",
     "exception": false,
     "start_time": "2025-07-23T19:45:26.661399",
     "status": "completed"
    },
    "tags": []
   },
   "outputs": [
    {
     "data": {
      "text/html": [
       "<div>\n",
       "<style scoped>\n",
       "    .dataframe tbody tr th:only-of-type {\n",
       "        vertical-align: middle;\n",
       "    }\n",
       "\n",
       "    .dataframe tbody tr th {\n",
       "        vertical-align: top;\n",
       "    }\n",
       "\n",
       "    .dataframe thead th {\n",
       "        text-align: right;\n",
       "    }\n",
       "</style>\n",
       "<table border=\"1\" class=\"dataframe\">\n",
       "  <thead>\n",
       "    <tr style=\"text-align: right;\">\n",
       "      <th></th>\n",
       "      <th>months_as_customer</th>\n",
       "      <th>age</th>\n",
       "      <th>policy_number</th>\n",
       "      <th>policy_bind_date</th>\n",
       "      <th>policy_state</th>\n",
       "      <th>policy_csl</th>\n",
       "      <th>policy_deductable</th>\n",
       "      <th>policy_annual_premium</th>\n",
       "      <th>umbrella_limit</th>\n",
       "      <th>insured_zip</th>\n",
       "      <th>...</th>\n",
       "      <th>total_claim_amount</th>\n",
       "      <th>injury_claim</th>\n",
       "      <th>property_claim</th>\n",
       "      <th>vehicle_claim</th>\n",
       "      <th>auto_make</th>\n",
       "      <th>auto_model</th>\n",
       "      <th>auto_year</th>\n",
       "      <th>fraud_reported</th>\n",
       "      <th>_c39</th>\n",
       "      <th>claim_description</th>\n",
       "    </tr>\n",
       "  </thead>\n",
       "  <tbody>\n",
       "    <tr>\n",
       "      <th>0</th>\n",
       "      <td>328</td>\n",
       "      <td>48</td>\n",
       "      <td>521585</td>\n",
       "      <td>2014-10-17</td>\n",
       "      <td>OH</td>\n",
       "      <td>250/500</td>\n",
       "      <td>1000</td>\n",
       "      <td>1406.91</td>\n",
       "      <td>0</td>\n",
       "      <td>466132</td>\n",
       "      <td>...</td>\n",
       "      <td>71610</td>\n",
       "      <td>6510</td>\n",
       "      <td>13020</td>\n",
       "      <td>52080</td>\n",
       "      <td>Saab</td>\n",
       "      <td>92x</td>\n",
       "      <td>2004</td>\n",
       "      <td>1</td>\n",
       "      <td>NaN</td>\n",
       "      <td>Single Vehicle Collision reported on 2015-01-2...</td>\n",
       "    </tr>\n",
       "    <tr>\n",
       "      <th>1</th>\n",
       "      <td>228</td>\n",
       "      <td>42</td>\n",
       "      <td>342868</td>\n",
       "      <td>2006-06-27</td>\n",
       "      <td>IN</td>\n",
       "      <td>250/500</td>\n",
       "      <td>2000</td>\n",
       "      <td>1197.22</td>\n",
       "      <td>5000000</td>\n",
       "      <td>468176</td>\n",
       "      <td>...</td>\n",
       "      <td>5070</td>\n",
       "      <td>780</td>\n",
       "      <td>780</td>\n",
       "      <td>3510</td>\n",
       "      <td>Mercedes</td>\n",
       "      <td>E400</td>\n",
       "      <td>2007</td>\n",
       "      <td>1</td>\n",
       "      <td>NaN</td>\n",
       "      <td>Vehicle Theft reported on 2015-01-21. Minor Da...</td>\n",
       "    </tr>\n",
       "    <tr>\n",
       "      <th>2</th>\n",
       "      <td>134</td>\n",
       "      <td>29</td>\n",
       "      <td>687698</td>\n",
       "      <td>2000-09-06</td>\n",
       "      <td>OH</td>\n",
       "      <td>100/300</td>\n",
       "      <td>2000</td>\n",
       "      <td>1413.14</td>\n",
       "      <td>5000000</td>\n",
       "      <td>430632</td>\n",
       "      <td>...</td>\n",
       "      <td>34650</td>\n",
       "      <td>7700</td>\n",
       "      <td>3850</td>\n",
       "      <td>23100</td>\n",
       "      <td>Dodge</td>\n",
       "      <td>RAM</td>\n",
       "      <td>2007</td>\n",
       "      <td>0</td>\n",
       "      <td>NaN</td>\n",
       "      <td>Multi-vehicle Collision reported on 2015-02-22...</td>\n",
       "    </tr>\n",
       "    <tr>\n",
       "      <th>3</th>\n",
       "      <td>256</td>\n",
       "      <td>41</td>\n",
       "      <td>227811</td>\n",
       "      <td>1990-05-25</td>\n",
       "      <td>IL</td>\n",
       "      <td>250/500</td>\n",
       "      <td>2000</td>\n",
       "      <td>1415.74</td>\n",
       "      <td>6000000</td>\n",
       "      <td>608117</td>\n",
       "      <td>...</td>\n",
       "      <td>63400</td>\n",
       "      <td>6340</td>\n",
       "      <td>6340</td>\n",
       "      <td>50720</td>\n",
       "      <td>Chevrolet</td>\n",
       "      <td>Tahoe</td>\n",
       "      <td>2014</td>\n",
       "      <td>1</td>\n",
       "      <td>NaN</td>\n",
       "      <td>Single Vehicle Collision reported on 2015-01-1...</td>\n",
       "    </tr>\n",
       "    <tr>\n",
       "      <th>4</th>\n",
       "      <td>228</td>\n",
       "      <td>44</td>\n",
       "      <td>367455</td>\n",
       "      <td>2014-06-06</td>\n",
       "      <td>IL</td>\n",
       "      <td>500/1000</td>\n",
       "      <td>1000</td>\n",
       "      <td>1583.91</td>\n",
       "      <td>6000000</td>\n",
       "      <td>610706</td>\n",
       "      <td>...</td>\n",
       "      <td>6500</td>\n",
       "      <td>1300</td>\n",
       "      <td>650</td>\n",
       "      <td>4550</td>\n",
       "      <td>Accura</td>\n",
       "      <td>RSX</td>\n",
       "      <td>2009</td>\n",
       "      <td>0</td>\n",
       "      <td>NaN</td>\n",
       "      <td>Vehicle Theft reported on 2015-02-17. Minor Da...</td>\n",
       "    </tr>\n",
       "  </tbody>\n",
       "</table>\n",
       "<p>5 rows × 41 columns</p>\n",
       "</div>"
      ],
      "text/plain": [
       "   months_as_customer  age  policy_number policy_bind_date policy_state  \\\n",
       "0                 328   48         521585       2014-10-17           OH   \n",
       "1                 228   42         342868       2006-06-27           IN   \n",
       "2                 134   29         687698       2000-09-06           OH   \n",
       "3                 256   41         227811       1990-05-25           IL   \n",
       "4                 228   44         367455       2014-06-06           IL   \n",
       "\n",
       "  policy_csl  policy_deductable  policy_annual_premium  umbrella_limit  \\\n",
       "0    250/500               1000                1406.91               0   \n",
       "1    250/500               2000                1197.22         5000000   \n",
       "2    100/300               2000                1413.14         5000000   \n",
       "3    250/500               2000                1415.74         6000000   \n",
       "4   500/1000               1000                1583.91         6000000   \n",
       "\n",
       "   insured_zip  ... total_claim_amount injury_claim property_claim  \\\n",
       "0       466132  ...              71610         6510          13020   \n",
       "1       468176  ...               5070          780            780   \n",
       "2       430632  ...              34650         7700           3850   \n",
       "3       608117  ...              63400         6340           6340   \n",
       "4       610706  ...               6500         1300            650   \n",
       "\n",
       "  vehicle_claim  auto_make  auto_model  auto_year fraud_reported _c39  \\\n",
       "0         52080       Saab         92x       2004              1  NaN   \n",
       "1          3510   Mercedes        E400       2007              1  NaN   \n",
       "2         23100      Dodge         RAM       2007              0  NaN   \n",
       "3         50720  Chevrolet       Tahoe       2014              1  NaN   \n",
       "4          4550     Accura         RSX       2009              0  NaN   \n",
       "\n",
       "                                   claim_description  \n",
       "0  Single Vehicle Collision reported on 2015-01-2...  \n",
       "1  Vehicle Theft reported on 2015-01-21. Minor Da...  \n",
       "2  Multi-vehicle Collision reported on 2015-02-22...  \n",
       "3  Single Vehicle Collision reported on 2015-01-1...  \n",
       "4  Vehicle Theft reported on 2015-02-17. Minor Da...  \n",
       "\n",
       "[5 rows x 41 columns]"
      ]
     },
     "metadata": {},
     "output_type": "display_data"
    }
   ],
   "source": [
    "display(df.head())"
   ]
  },
  {
   "cell_type": "code",
   "execution_count": 12,
   "id": "3834a7f5",
   "metadata": {
    "execution": {
     "iopub.execute_input": "2025-07-23T19:45:26.689790Z",
     "iopub.status.busy": "2025-07-23T19:45:26.689790Z",
     "iopub.status.idle": "2025-07-23T19:45:26.699674Z",
     "shell.execute_reply": "2025-07-23T19:45:26.699674Z"
    },
    "papermill": {
     "duration": 0.019394,
     "end_time": "2025-07-23T19:45:26.699674",
     "exception": false,
     "start_time": "2025-07-23T19:45:26.680280",
     "status": "completed"
    },
    "tags": []
   },
   "outputs": [],
   "source": [
    "# Save structured data for later use\n",
    "X_structured.to_csv('../data/X_structured.csv', index=False)\n",
    "y.to_csv('../data/y.csv', index=False)  \n",
    "\n",
    "# Save text data for later use\n",
    "text_data.to_csv('../data/text_data.csv', index=False)"
   ]
  }
 ],
 "metadata": {
  "kernelspec": {
   "display_name": "Python 3",
   "language": "python",
   "name": "python3"
  },
  "language_info": {
   "codemirror_mode": {
    "name": "ipython",
    "version": 3
   },
   "file_extension": ".py",
   "mimetype": "text/x-python",
   "name": "python",
   "nbconvert_exporter": "python",
   "pygments_lexer": "ipython3",
   "version": "3.11.9"
  },
  "papermill": {
   "default_parameters": {},
   "duration": 1.761283,
   "end_time": "2025-07-23T19:45:26.948156",
   "environment_variables": {},
   "exception": null,
   "input_path": "C:\\Users\\abdou\\Documents\\Data_Science_Projects\\AbdoulT_DSPortfolio\\Auto Insurance Claims\\Notebooks\\01_Data_Preprocessing.ipynb",
   "output_path": "C:\\Users\\abdou\\Documents\\Data_Science_Projects\\AbdoulT_DSPortfolio\\Auto Insurance Claims\\Notebooks\\outputs\\OUT_01_Data_Preprocessing.ipynb",
   "parameters": {},
   "start_time": "2025-07-23T19:45:25.186873",
   "version": "2.6.0"
  }
 },
 "nbformat": 4,
 "nbformat_minor": 5
}