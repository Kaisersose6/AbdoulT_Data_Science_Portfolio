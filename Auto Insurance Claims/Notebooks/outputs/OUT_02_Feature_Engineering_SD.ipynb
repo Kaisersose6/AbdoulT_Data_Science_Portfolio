{
 "cells": [
  {
   "cell_type": "markdown",
   "id": "10681b32",
   "metadata": {
    "papermill": {
     "duration": 0.001001,
     "end_time": "2025-07-23T19:45:27.715711",
     "exception": false,
     "start_time": "2025-07-23T19:45:27.714710",
     "status": "completed"
    },
    "tags": []
   },
   "source": [
    "# Feature Engineering on Structured Data"
   ]
  },
  {
   "cell_type": "code",
   "execution_count": 1,
   "id": "2de52b12",
   "metadata": {
    "execution": {
     "iopub.execute_input": "2025-07-23T19:45:27.740726Z",
     "iopub.status.busy": "2025-07-23T19:45:27.740726Z",
     "iopub.status.idle": "2025-07-23T19:45:27.921767Z",
     "shell.execute_reply": "2025-07-23T19:45:27.921767Z"
    },
    "papermill": {
     "duration": 0.190545,
     "end_time": "2025-07-23T19:45:27.921767",
     "exception": false,
     "start_time": "2025-07-23T19:45:27.731222",
     "status": "completed"
    },
    "tags": []
   },
   "outputs": [],
   "source": [
    "# Import dataset\n",
    "import pandas as pd \n",
    "import numpy as np\n",
    "\n",
    "X_structured = pd.read_csv('../data/X_structured.csv')\n",
    "y = pd.read_csv('../data/y.csv')"
   ]
  },
  {
   "cell_type": "code",
   "execution_count": 2,
   "id": "20d50e09",
   "metadata": {
    "execution": {
     "iopub.execute_input": "2025-07-23T19:45:27.931929Z",
     "iopub.status.busy": "2025-07-23T19:45:27.930928Z",
     "iopub.status.idle": "2025-07-23T19:45:28.304446Z",
     "shell.execute_reply": "2025-07-23T19:45:28.304446Z"
    },
    "papermill": {
     "duration": 0.381519,
     "end_time": "2025-07-23T19:45:28.305448",
     "exception": false,
     "start_time": "2025-07-23T19:45:27.923929",
     "status": "completed"
    },
    "tags": []
   },
   "outputs": [],
   "source": [
    "from sklearn.preprocessing import OneHotEncoder, StandardScaler\n",
    "from sklearn.compose import ColumnTransformer\n",
    "from sklearn.pipeline import Pipeline\n",
    "\n",
    "num_features = X_structured.select_dtypes(include=np.number).columns.tolist()\n",
    "cat_features = X_structured.select_dtypes(include='object').columns.tolist()\n"
   ]
  },
  {
   "cell_type": "code",
   "execution_count": 3,
   "id": "b3deee3f",
   "metadata": {
    "execution": {
     "iopub.execute_input": "2025-07-23T19:45:28.315449Z",
     "iopub.status.busy": "2025-07-23T19:45:28.314448Z",
     "iopub.status.idle": "2025-07-23T19:45:28.319296Z",
     "shell.execute_reply": "2025-07-23T19:45:28.319296Z"
    },
    "papermill": {
     "duration": 0.013852,
     "end_time": "2025-07-23T19:45:28.320300",
     "exception": false,
     "start_time": "2025-07-23T19:45:28.306448",
     "status": "completed"
    },
    "tags": []
   },
   "outputs": [
    {
     "data": {
      "text/plain": [
       "['../data/preprocessor.pkl']"
      ]
     },
     "execution_count": 3,
     "metadata": {},
     "output_type": "execute_result"
    }
   ],
   "source": [
    "preprocessor = ColumnTransformer(transformers=[\n",
    "    ('num', StandardScaler(), num_features),\n",
    "    ('cat', OneHotEncoder(handle_unknown='ignore'), cat_features)\n",
    "])\n",
    "\n",
    "# save preprocessor to disk\n",
    "import joblib   \n",
    "joblib.dump(preprocessor, '../data/preprocessor.pkl')   \n"
   ]
  }
 ],
 "metadata": {
  "kernelspec": {
   "display_name": "Python 3",
   "language": "python",
   "name": "python3"
  },
  "language_info": {
   "codemirror_mode": {
    "name": "ipython",
    "version": 3
   },
   "file_extension": ".py",
   "mimetype": "text/x-python",
   "name": "python",
   "nbconvert_exporter": "python",
   "pygments_lexer": "ipython3",
   "version": "3.11.9"
  },
  "papermill": {
   "default_parameters": {},
   "duration": 1.582539,
   "end_time": "2025-07-23T19:45:28.544157",
   "environment_variables": {},
   "exception": null,
   "input_path": "C:\\Users\\abdou\\Documents\\Data_Science_Projects\\AbdoulT_DSPortfolio\\Auto Insurance Claims\\Notebooks\\02_Feature_Engineering_SD.ipynb",
   "output_path": "C:\\Users\\abdou\\Documents\\Data_Science_Projects\\AbdoulT_DSPortfolio\\Auto Insurance Claims\\Notebooks\\outputs\\OUT_02_Feature_Engineering_SD.ipynb",
   "parameters": {},
   "start_time": "2025-07-23T19:45:26.961618",
   "version": "2.6.0"
  }
 },
 "nbformat": 4,
 "nbformat_minor": 5
}