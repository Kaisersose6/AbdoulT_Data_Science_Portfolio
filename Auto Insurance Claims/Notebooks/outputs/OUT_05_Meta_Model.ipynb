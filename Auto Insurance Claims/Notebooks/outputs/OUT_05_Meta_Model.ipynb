{
 "cells": [
  {
   "cell_type": "markdown",
   "id": "8a5e01e5",
   "metadata": {
    "tags": [
     "papermill-error-cell-tag"
    ]
   },
   "source": [
    "<span style=\"color:red; font-family:Helvetica Neue, Helvetica, Arial, sans-serif; font-size:2em;\">An Exception was encountered at '<a href=\"#papermill-error-cell\">In [1]</a>'.</span>"
   ]
  },
  {
   "cell_type": "markdown",
   "id": "2da97dd7",
   "metadata": {
    "papermill": {
     "duration": 0.002,
     "end_time": "2025-07-23T19:47:00.056565",
     "exception": false,
     "start_time": "2025-07-23T19:47:00.054565",
     "status": "completed"
    },
    "tags": []
   },
   "source": [
    "# Meta Model (Ensemble)"
   ]
  },
  {
   "cell_type": "markdown",
   "id": "18cedfba",
   "metadata": {
    "tags": [
     "papermill-error-cell-tag"
    ]
   },
   "source": [
    "<span id=\"papermill-error-cell\" style=\"color:red; font-family:Helvetica Neue, Helvetica, Arial, sans-serif; font-size:2em;\">Execution using papermill encountered an exception here and stopped:</span>"
   ]
  },
  {
   "cell_type": "code",
   "execution_count": 1,
   "id": "6214a29b",
   "metadata": {
    "execution": {
     "iopub.execute_input": "2025-07-23T19:47:00.076083Z",
     "iopub.status.busy": "2025-07-23T19:47:00.075082Z",
     "iopub.status.idle": "2025-07-23T19:47:00.193127Z",
     "shell.execute_reply": "2025-07-23T19:47:00.193127Z"
    },
    "papermill": {
     "duration": 0.12757,
     "end_time": "2025-07-23T19:47:00.194135",
     "exception": true,
     "start_time": "2025-07-23T19:47:00.066565",
     "status": "failed"
    },
    "tags": []
   },
   "outputs": [
    {
     "ename": "NameError",
     "evalue": "name 'model' is not defined",
     "output_type": "error",
     "traceback": [
      "\u001b[31m---------------------------------------------------------------------------\u001b[39m",
      "\u001b[31mNameError\u001b[39m                                 Traceback (most recent call last)",
      "\u001b[36mCell\u001b[39m\u001b[36m \u001b[39m\u001b[32mIn[1]\u001b[39m\u001b[32m, line 2\u001b[39m\n\u001b[32m      1\u001b[39m \u001b[38;5;66;03m# Get predictions from both models\u001b[39;00m\n\u001b[32m----> \u001b[39m\u001b[32m2\u001b[39m bert_preds = \u001b[43mmodel\u001b[49m.predict({\u001b[33m'\u001b[39m\u001b[33minput_ids\u001b[39m\u001b[33m'\u001b[39m: inputs[\u001b[33m'\u001b[39m\u001b[33minput_ids\u001b[39m\u001b[33m'\u001b[39m], \u001b[33m'\u001b[39m\u001b[33mattention_mask\u001b[39m\u001b[33m'\u001b[39m: inputs[\u001b[33m'\u001b[39m\u001b[33mattention_mask\u001b[39m\u001b[33m'\u001b[39m]}).flatten()\n\u001b[32m      3\u001b[39m xgb_preds = xgb_model.predict_proba(X_structured)[:, \u001b[32m1\u001b[39m]\n\u001b[32m      5\u001b[39m \u001b[38;5;66;03m# Stack and create meta features\u001b[39;00m\n",
      "\u001b[31mNameError\u001b[39m: name 'model' is not defined"
     ]
    }
   ],
   "source": [
    "# Get predictions from both models\n",
    "bert_preds = model.predict({'input_ids': inputs['input_ids'], 'attention_mask': inputs['attention_mask']}).flatten()\n",
    "xgb_preds = xgb_model.predict_proba(X_structured)[:, 1]\n",
    "\n",
    "# Stack and create meta features\n",
    "ensemble_X = np.vstack((bert_preds, xgb_preds)).T\n",
    "\n",
    "from sklearn.linear_model import LogisticRegression\n",
    "meta_model = LogisticRegression()\n",
    "meta_model.fit(ensemble_X, y)"
   ]
  }
 ],
 "metadata": {
  "kernelspec": {
   "display_name": "Python 3",
   "language": "python",
   "name": "python3"
  },
  "language_info": {
   "codemirror_mode": {
    "name": "ipython",
    "version": 3
   },
   "file_extension": ".py",
   "mimetype": "text/x-python",
   "name": "python",
   "nbconvert_exporter": "python",
   "pygments_lexer": "ipython3",
   "version": "3.11.9"
  },
  "papermill": {
   "default_parameters": {},
   "duration": 1.034109,
   "end_time": "2025-07-23T19:47:00.306343",
   "environment_variables": {},
   "exception": true,
   "input_path": "C:\\Users\\abdou\\Documents\\Data_Science_Projects\\AbdoulT_DSPortfolio\\Auto Insurance Claims\\Notebooks\\05_Meta_Model.ipynb",
   "output_path": "C:\\Users\\abdou\\Documents\\Data_Science_Projects\\AbdoulT_DSPortfolio\\Auto Insurance Claims\\Notebooks\\outputs\\OUT_05_Meta_Model.ipynb",
   "parameters": {},
   "start_time": "2025-07-23T19:46:59.272234",
   "version": "2.6.0"
  }
 },
 "nbformat": 4,
 "nbformat_minor": 5
}