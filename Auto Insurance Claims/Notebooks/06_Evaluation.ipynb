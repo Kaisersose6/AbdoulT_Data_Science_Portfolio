{
 "cells": [
  {
   "cell_type": "markdown",
   "id": "9722edbb",
   "metadata": {},
   "source": [
    "# Meta Model Evaluation   "
   ]
  },
  {
   "cell_type": "code",
   "execution_count": 6,
   "id": "949e7277",
   "metadata": {},
   "outputs": [],
   "source": [
    "import numpy as np\n",
    "# Load ensemble features\n",
    "ensemble_X = np.load('../data/ensemble_features.npy')\n",
    "\n",
    "#load y data\n",
    "import pandas as pd\n",
    "y = pd.read_csv('../data/y.csv')['fraud_reported'].values\n",
    "\n",
    "# Load the meta_model\n",
    "import joblib\n",
    "meta_model = joblib.load('../data/meta_model.pkl')"
   ]
  },
  {
   "cell_type": "code",
   "execution_count": 7,
   "id": "27edc100",
   "metadata": {},
   "outputs": [
    {
     "name": "stdout",
     "output_type": "stream",
     "text": [
      "AUC: 1.0\n",
      "              precision    recall  f1-score   support\n",
      "\n",
      "           0       1.00      1.00      1.00       753\n",
      "           1       1.00      1.00      1.00       247\n",
      "\n",
      "    accuracy                           1.00      1000\n",
      "   macro avg       1.00      1.00      1.00      1000\n",
      "weighted avg       1.00      1.00      1.00      1000\n",
      "\n"
     ]
    }
   ],
   "source": [
    "from sklearn.metrics import roc_auc_score, classification_report\n",
    "\n",
    "meta_preds = meta_model.predict_proba(ensemble_X)[:, 1]\n",
    "print(\"AUC:\", roc_auc_score(y, meta_preds))\n",
    "print(classification_report(y, meta_preds > 0.5))\n"
   ]
  }
 ],
 "metadata": {
  "kernelspec": {
   "display_name": "Python 3",
   "language": "python",
   "name": "python3"
  },
  "language_info": {
   "codemirror_mode": {
    "name": "ipython",
    "version": 3
   },
   "file_extension": ".py",
   "mimetype": "text/x-python",
   "name": "python",
   "nbconvert_exporter": "python",
   "pygments_lexer": "ipython3",
   "version": "3.11.9"
  }
 },
 "nbformat": 4,
 "nbformat_minor": 5
}
