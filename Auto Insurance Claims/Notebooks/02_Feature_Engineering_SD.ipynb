{
 "cells": [
  {
   "cell_type": "markdown",
   "id": "10681b32",
   "metadata": {},
   "source": [
    "# Feature Engineering on Structured Data"
   ]
  },
  {
   "cell_type": "code",
   "execution_count": null,
   "id": "2de52b12",
   "metadata": {},
   "outputs": [],
   "source": [
    "# Import dataset\n",
    "import pandas as pd \n",
    "import numpy as np\n",
    "\n",
    "X_structured = pd.read_csv('../data/X_structured.csv')\n",
    "y = pd.read_csv('../data/y.csv')"
   ]
  },
  {
   "cell_type": "code",
   "execution_count": null,
   "id": "20d50e09",
   "metadata": {},
   "outputs": [],
   "source": [
    "from sklearn.preprocessing import OneHotEncoder, StandardScaler\n",
    "from sklearn.compose import ColumnTransformer\n",
    "from sklearn.pipeline import Pipeline\n",
    "\n",
    "num_features = X_structured.select_dtypes(include=np.number).columns.tolist()\n",
    "cat_features = X_structured.select_dtypes(include='object').columns.tolist()\n"
   ]
  },
  {
   "cell_type": "code",
   "execution_count": null,
   "id": "b3deee3f",
   "metadata": {},
   "outputs": [],
   "source": [
    "preprocessor = ColumnTransformer(transformers=[\n",
    "    ('num', StandardScaler(), num_features),\n",
    "    ('cat', OneHotEncoder(handle_unknown='ignore'), cat_features)\n",
    "])\n",
    "\n",
    "# save preprocessor to disk\n",
    "import joblib   \n",
    "joblib.dump(preprocessor, '../data/preprocessor.pkl')   \n"
   ]
  }
 ],
 "metadata": {
  "kernelspec": {
   "display_name": "Python 3",
   "language": "python",
   "name": "python3"
  },
  "language_info": {
   "codemirror_mode": {
    "name": "ipython",
    "version": 3
   },
   "file_extension": ".py",
   "mimetype": "text/x-python",
   "name": "python",
   "nbconvert_exporter": "python",
   "pygments_lexer": "ipython3",
   "version": "3.11.9"
  }
 },
 "nbformat": 4,
 "nbformat_minor": 5
}
