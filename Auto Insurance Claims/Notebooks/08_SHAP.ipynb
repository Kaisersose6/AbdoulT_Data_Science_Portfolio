{
 "cells": [
  {
   "cell_type": "markdown",
   "id": "d512d7ec",
   "metadata": {},
   "source": [
    "# SHAP Explainability"
   ]
  },
  {
   "cell_type": "code",
   "execution_count": 4,
   "id": "dd8e86ca",
   "metadata": {},
   "outputs": [],
   "source": [
    "# Import xgb.model\n",
    "import joblib\n",
    "xgb_model = joblib.load('../data/xgb_model.pkl')\n",
    "\n",
    "#import X structured data\n",
    "import pandas as pd \n",
    "X_structured = pd.read_csv('../data/X_structured.csv')"
   ]
  },
  {
   "cell_type": "code",
   "execution_count": null,
   "id": "17b9f088",
   "metadata": {},
   "outputs": [],
   "source": [
    "import shap\n",
    "\n",
    "explainer = shap.Explainer(xgb_model.named_steps['xgbclassifier'])\n",
    "shap_values = explainer(X_structured)\n",
    "shap.plots.beeswarm(shap_values)"
   ]
  }
 ],
 "metadata": {
  "kernelspec": {
   "display_name": "Python 3",
   "language": "python",
   "name": "python3"
  },
  "language_info": {
   "codemirror_mode": {
    "name": "ipython",
    "version": 3
   },
   "file_extension": ".py",
   "mimetype": "text/x-python",
   "name": "python",
   "nbconvert_exporter": "python",
   "pygments_lexer": "ipython3",
   "version": "3.11.9"
  }
 },
 "nbformat": 4,
 "nbformat_minor": 5
}
