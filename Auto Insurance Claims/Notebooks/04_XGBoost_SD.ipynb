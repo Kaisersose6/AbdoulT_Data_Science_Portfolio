{
 "cells": [
  {
   "cell_type": "markdown",
   "id": "a2186ba0",
   "metadata": {},
   "source": [
    "# XGBoost on Structured Data"
   ]
  },
  {
   "cell_type": "code",
   "execution_count": 15,
   "id": "281c1b8a",
   "metadata": {},
   "outputs": [],
   "source": [
    "from xgboost import XGBClassifier\n",
    "from sklearn.pipeline import make_pipeline\n",
    "import pandas as pd"
   ]
  },
  {
   "cell_type": "code",
   "execution_count": 16,
   "id": "7f15150d",
   "metadata": {},
   "outputs": [],
   "source": [
    "X_structured = pd.read_csv('../data/X_structured.csv')\n",
    "y = pd.read_csv('../data/y.csv')"
   ]
  },
  {
   "cell_type": "code",
   "execution_count": 17,
   "id": "22988931",
   "metadata": {},
   "outputs": [],
   "source": [
    "# import the preprocessor\n",
    "import joblib\n",
    "preprocessor = joblib.load('../data/preprocessor.pkl')"
   ]
  },
  {
   "cell_type": "code",
   "execution_count": 18,
   "id": "4bd25dfd",
   "metadata": {},
   "outputs": [
    {
     "name": "stderr",
     "output_type": "stream",
     "text": [
      "C:\\Users\\abdou\\AppData\\Roaming\\Python\\Python311\\site-packages\\xgboost\\training.py:183: UserWarning: [14:55:52] WARNING: C:\\actions-runner\\_work\\xgboost\\xgboost\\src\\learner.cc:738: \n",
      "Parameters: { \"use_label_encoder\" } are not used.\n",
      "\n",
      "  bst.update(dtrain, iteration=i, fobj=obj)\n"
     ]
    },
    {
     "data": {
      "text/plain": [
       "['../data/xgb_model.pkl']"
      ]
     },
     "execution_count": 18,
     "metadata": {},
     "output_type": "execute_result"
    }
   ],
   "source": [
    "xgb_model = make_pipeline(preprocessor, XGBClassifier(n_estimators=100, use_label_encoder=False, eval_metric='logloss'))\n",
    "xgb_model.fit(X_structured, y)\n",
    "\n",
    "# Save the model to disk\n",
    "joblib.dump(xgb_model, '../data/xgb_model.pkl')"
   ]
  }
 ],
 "metadata": {
  "kernelspec": {
   "display_name": "Python 3",
   "language": "python",
   "name": "python3"
  },
  "language_info": {
   "codemirror_mode": {
    "name": "ipython",
    "version": 3
   },
   "file_extension": ".py",
   "mimetype": "text/x-python",
   "name": "python",
   "nbconvert_exporter": "python",
   "pygments_lexer": "ipython3",
   "version": "3.11.9"
  }
 },
 "nbformat": 4,
 "nbformat_minor": 5
}
