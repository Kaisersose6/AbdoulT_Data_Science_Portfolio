{
 "cells": [
  {
   "cell_type": "markdown",
   "id": "2da97dd7",
   "metadata": {},
   "source": [
    "# Meta Model (Ensemble)"
   ]
  },
  {
   "cell_type": "code",
   "execution_count": null,
   "id": "8480f5d7",
   "metadata": {},
   "outputs": [],
   "source": [
    "import pandas as pd\n",
    "import numpy as np\n",
    "\n",
    "# Import xgb.model\n",
    "import joblib\n",
    "xgb_model = joblib.load('../data/xgb_model.pkl')"
   ]
  },
  {
   "cell_type": "code",
   "execution_count": null,
   "id": "ec1b508f",
   "metadata": {},
   "outputs": [],
   "source": [
    "predictions = np.load(\"../data/bert_predictions.npy\")\n",
    "# Create a DataFrame from the predictions\n",
    "predictions_df = pd.DataFrame(predictions, columns=['prediction'])\n",
    "# Save the predictions DataFrame to a CSV file\n",
    "predictions_df.to_csv('../data/bert_predictions.csv', index=False)"
   ]
  },
  {
   "cell_type": "code",
   "execution_count": 18,
   "id": "156e0ebf",
   "metadata": {},
   "outputs": [],
   "source": [
    "# load X_structured data\n",
    "X_structured = pd.read_csv('../data/X_structured.csv')\n",
    "\n",
    "# load y data\n",
    "y = pd.read_csv('../data/y.csv')"
   ]
  },
  {
   "cell_type": "code",
   "execution_count": 21,
   "id": "6214a29b",
   "metadata": {},
   "outputs": [
    {
     "name": "stderr",
     "output_type": "stream",
     "text": [
      "C:\\Users\\abdou\\AppData\\Roaming\\Python\\Python311\\site-packages\\sklearn\\utils\\validation.py:1408: DataConversionWarning: A column-vector y was passed when a 1d array was expected. Please change the shape of y to (n_samples, ), for example using ravel().\n",
      "  y = column_or_1d(y, warn=True)\n"
     ]
    },
    {
     "data": {
      "text/plain": [
       "['../data/meta_model.pkl']"
      ]
     },
     "execution_count": 21,
     "metadata": {},
     "output_type": "execute_result"
    }
   ],
   "source": [
    "# Get predictions from both models\n",
    "bert_preds = predictions_df['prediction'].values\n",
    "xgb_preds = xgb_model.predict_proba(X_structured)[:, 1]\n",
    "\n",
    "# Stack and create meta features\n",
    "ensemble_X = np.vstack((bert_preds, xgb_preds)).T\n",
    "\n",
    "# Save the ensemble features\n",
    "np.save('../data/ensemble_features.npy', ensemble_X)    \n",
    "\n",
    "from sklearn.linear_model import LogisticRegression\n",
    "meta_model = LogisticRegression()\n",
    "meta_model.fit(ensemble_X, y)\n",
    "\n",
    "# save the meta model\n",
    "joblib.dump(meta_model, '../data/meta_model.pkl')"
   ]
  }
 ],
 "metadata": {
  "kernelspec": {
   "display_name": "Python 3",
   "language": "python",
   "name": "python3"
  },
  "language_info": {
   "codemirror_mode": {
    "name": "ipython",
    "version": 3
   },
   "file_extension": ".py",
   "mimetype": "text/x-python",
   "name": "python",
   "nbconvert_exporter": "python",
   "pygments_lexer": "ipython3",
   "version": "3.11.9"
  }
 },
 "nbformat": 4,
 "nbformat_minor": 5
}
