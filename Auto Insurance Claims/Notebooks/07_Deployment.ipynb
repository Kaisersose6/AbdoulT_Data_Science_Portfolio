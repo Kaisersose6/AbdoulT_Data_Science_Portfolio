{
 "cells": [
  {
   "cell_type": "markdown",
   "id": "98907738",
   "metadata": {},
   "source": [
    "# Deployment on Azure ML (Optional)"
   ]
  },
  {
   "cell_type": "code",
   "execution_count": null,
   "id": "085be4a1",
   "metadata": {},
   "outputs": [],
   "source": [
    "from azureml.core import Workspace, Model, Environment, InferenceConfig\n",
    "from azureml.core.webservice import AciWebservice\n",
    "\n",
    "ws = Workspace.from_config()\n",
    "model_path = \"outputs/final_model.pkl\"\n",
    "model = Model.register(workspace=ws, model_name=\"fraud_detector_ensemble\", model_path=model_path)\n",
    "\n",
    "env = Environment.from_pip_requirements(name=\"fraud-env\", file_path=\"requirements.txt\")\n",
    "\n",
    "inference_config = InferenceConfig(entry_script=\"score.py\", environment=env)\n",
    "deployment_config = AciWebservice.deploy_configuration(cpu_cores=2, memory_gb=4)\n",
    "\n",
    "service = Model.deploy(workspace=ws,\n",
    "                       name=\"fraud-detection-service\",\n",
    "                       models=[model],\n",
    "                       inference_config=inference_config,\n",
    "                       deployment_config=deployment_config)\n",
    "service.wait_for_deployment(show_output=True)\n"
   ]
  }
 ],
 "metadata": {
  "kernelspec": {
   "display_name": "Python 3",
   "language": "python",
   "name": "python3"
  },
  "language_info": {
   "name": "python",
   "version": "3.11.9"
  }
 },
 "nbformat": 4,
 "nbformat_minor": 5
}
