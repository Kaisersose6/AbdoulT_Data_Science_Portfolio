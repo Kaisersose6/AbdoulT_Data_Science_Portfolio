{
 "cells": [
  {
   "cell_type": "markdown",
   "id": "9e604364",
   "metadata": {},
   "source": [
    "# Zero-shot classification on filing titles to detect risk types"
   ]
  },
  {
   "cell_type": "code",
   "execution_count": 7,
   "id": "65c63bc7",
   "metadata": {},
   "outputs": [],
   "source": [
    "import os\n",
    "from transformers import pipeline\n",
    "import pandas as pd"
   ]
  },
  {
   "cell_type": "code",
   "execution_count": 16,
   "id": "57e3ceee",
   "metadata": {},
   "outputs": [],
   "source": [
    "companies = {\n",
    "    \"Apple\": \"0000320193\",\n",
    "    \"Microsoft\": \"0000789019\",\n",
    "    \"Meta\": \"0001326801\",\n",
    "    \"Amazon\": \"0001018724\",\n",
    "    \"Google\": \"0001652044\",\n",
    "    \"Rise\": \"0001640967\",\n",
    "    \"Tesla\": \"0001318605\",\n",
    "    \"Nvidia\": \"0001045810\"\n",
    "}"
   ]
  },
  {
   "cell_type": "code",
   "execution_count": 19,
   "id": "65baca2f",
   "metadata": {},
   "outputs": [
    {
     "name": "stderr",
     "output_type": "stream",
     "text": [
      "Device set to use cpu\n"
     ]
    },
    {
     "name": "stdout",
     "output_type": "stream",
     "text": [
      "✅ Applied zero-shot classification for risk labeling on Apple filing.\n",
      "⚠️ Skipping Microsoft: No filing text found.\n",
      "✅ Applied zero-shot classification for risk labeling on Meta filing.\n",
      "✅ Applied zero-shot classification for risk labeling on Amazon filing.\n",
      "✅ Applied zero-shot classification for risk labeling on Google filing.\n",
      "⚠️ Skipping Rise: No filing text found.\n",
      "⚠️ Skipping Tesla: No filing text found.\n",
      "✅ Applied zero-shot classification for risk labeling on Nvidia filing.\n"
     ]
    }
   ],
   "source": [
    "classifier = pipeline(\"zero-shot-classification\", model=\"facebook/bart-large-mnli\")\n",
    "\n",
    "risk_labels = [\n",
    "    \"cybersecurity risk\",\n",
    "    \"regulatory non-compliance\",\n",
    "    \"financial instability\",\n",
    "    \"legal exposure\",\n",
    "    \"supply chain disruption\"\n",
    "]\n",
    "\n",
    "for company in companies:\n",
    "    filing_path = f\"../data/processed/{company}_filing_clean.txt\"\n",
    "    if os.path.exists(filing_path):\n",
    "        with open(filing_path, \"r\", encoding=\"utf-8\") as f:\n",
    "            text = f.read()[:3000]\n",
    "\n",
    "        result = classifier(text, candidate_labels=risk_labels)\n",
    "\n",
    "        df_result = pd.DataFrame({\n",
    "            \"risk_label\": result['labels'],\n",
    "            \"score\": result['scores']\n",
    "        })\n",
    "\n",
    "        df_result.to_csv(f\"../data/processed/{company}_filing_risk_labels.csv\", index=False)\n",
    "        print(f\"✅ Applied zero-shot classification for risk labeling on {company} filing.\")\n",
    "    else:\n",
    "        print(f\"⚠️ Skipping {company}: No filing text found.\")\n"
   ]
  }
 ],
 "metadata": {
  "kernelspec": {
   "display_name": "Python 3",
   "language": "python",
   "name": "python3"
  },
  "language_info": {
   "codemirror_mode": {
    "name": "ipython",
    "version": 3
   },
   "file_extension": ".py",
   "mimetype": "text/x-python",
   "name": "python",
   "nbconvert_exporter": "python",
   "pygments_lexer": "ipython3",
   "version": "3.13.5"
  }
 },
 "nbformat": 4,
 "nbformat_minor": 5
}
