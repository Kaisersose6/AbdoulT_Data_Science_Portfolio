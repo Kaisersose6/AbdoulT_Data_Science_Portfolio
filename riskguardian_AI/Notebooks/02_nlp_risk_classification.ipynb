{
 "cells": [
  {
   "cell_type": "markdown",
   "id": "9e604364",
   "metadata": {},
   "source": [
    "# Zero-shot classification on filing titles to detect risk types"
   ]
  },
  {
   "cell_type": "code",
   "execution_count": null,
   "id": "65c63bc7",
   "metadata": {},
   "outputs": [],
   "source": []
  }
 ],
 "metadata": {
  "language_info": {
   "name": "python"
  }
 },
 "nbformat": 4,
 "nbformat_minor": 5
}
