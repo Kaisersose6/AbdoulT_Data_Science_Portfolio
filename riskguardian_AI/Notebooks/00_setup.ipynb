{
 "cells": [
  {
   "cell_type": "markdown",
   "id": "fd6abf1c",
   "metadata": {},
   "source": [
    "# 📁 Project: RiskGuardian AI — Real-Time Risk Detection and Compliance Monitor"
   ]
  },
  {
   "cell_type": "code",
   "execution_count": 1,
   "id": "8ef0accc",
   "metadata": {},
   "outputs": [
    {
     "name": "stdout",
     "output_type": "stream",
     "text": [
      "✅ Folder structure created.\n",
      "✅ Sample SEC filings data fetched and saved.\n",
      "✅ Processed and filtered SEC filings.\n"
     ]
    }
   ],
   "source": [
    "# === 00_setup.py ===\n",
    "# Environment & data pipeline setup for RiskGuardian\n",
    "import os\n",
    "import requests\n",
    "import pandas as pd\n",
    "from pathlib import Path\n",
    "\n",
    "# Setup folders\n",
    "Path(\"data/raw\").mkdir(parents=True, exist_ok=True)\n",
    "Path(\"data/processed\").mkdir(parents=True, exist_ok=True)\n",
    "Path(\"models\").mkdir(parents=True, exist_ok=True)\n",
    "Path(\"artifacts\").mkdir(parents=True, exist_ok=True)\n",
    "\n",
    "print(\"✅ Folder structure created.\")\n",
    "\n",
    "# Example: SEC EDGAR 10-K Filing Data (Public Companies)\n",
    "# Using sample ticker to simulate fetching filings\n",
    "BASE_URL = \"https://data.sec.gov/submissions/CIK0000320193.json\"  # Apple Inc.\n",
    "HEADERS = {\"User-Agent\": \"RiskGuardianBot/0.1\"}\n",
    "\n",
    "response = requests.get(BASE_URL, headers=HEADERS)\n",
    "if response.status_code == 200:\n",
    "    data = response.json()\n",
    "    pd.json_normalize(data['filings']['recent']).to_csv(\"data/raw/sec_filings_sample.csv\", index=False)\n",
    "    print(\"✅ Sample SEC filings data fetched and saved.\")\n",
    "else:\n",
    "    print(f\"❌ Failed to fetch SEC data: {response.status_code}\")\n",
    "\n",
    "# === 01_preprocess.py ===\n",
    "# Basic cleaning and prep of fetched filings\n",
    "import pandas as pd\n",
    "\n",
    "df = pd.read_csv(\"data/raw/sec_filings_sample.csv\")\n",
    "df = df[['accessionNumber', 'reportDate', 'form', 'primaryDocument']]\n",
    "df = df[df['form'].isin(['10-K', '10-Q'])]\n",
    "df.to_csv(\"data/processed/sec_filings_clean.csv\", index=False)\n",
    "print(\"✅ Processed and filtered SEC filings.\")\n"
   ]
  }
 ],
 "metadata": {
  "kernelspec": {
   "display_name": "Python 3",
   "language": "python",
   "name": "python3"
  },
  "language_info": {
   "codemirror_mode": {
    "name": "ipython",
    "version": 3
   },
   "file_extension": ".py",
   "mimetype": "text/x-python",
   "name": "python",
   "nbconvert_exporter": "python",
   "pygments_lexer": "ipython3",
   "version": "3.13.5"
  }
 },
 "nbformat": 4,
 "nbformat_minor": 5
}
