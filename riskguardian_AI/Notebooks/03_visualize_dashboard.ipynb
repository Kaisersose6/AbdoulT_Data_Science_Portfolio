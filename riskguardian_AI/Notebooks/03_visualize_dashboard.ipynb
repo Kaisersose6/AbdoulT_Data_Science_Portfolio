{
 "cells": [
  {
   "cell_type": "markdown",
   "id": "9e31b97c",
   "metadata": {},
   "source": [
    "# Streamlit Dashboard to Explore Filing Risk Classifications"
   ]
  },
  {
   "cell_type": "code",
   "execution_count": 18,
   "id": "98207a4e",
   "metadata": {},
   "outputs": [],
   "source": [
    "import streamlit as st\n",
    "import pandas as pd\n",
    "import os"
   ]
  },
  {
   "cell_type": "code",
   "execution_count": 19,
   "id": "27c89088",
   "metadata": {},
   "outputs": [],
   "source": [
    "companies = {\n",
    "    \"Apple\": \"0000320193\",\n",
    "    \"Microsoft\": \"0000789019\",\n",
    "    \"Meta\": \"0001326801\",\n",
    "    \"Amazon\": \"0001018724\",\n",
    "    \"Google\": \"0001652044\",\n",
    "    \"Rise\": \"0001640967\",\n",
    "    \"Tesla\": \"0001318605\",\n",
    "    \"Nvidia\": \"0001045810\"\n",
    "}"
   ]
  },
  {
   "cell_type": "code",
   "execution_count": 20,
   "id": "13019023",
   "metadata": {},
   "outputs": [
    {
     "name": "stderr",
     "output_type": "stream",
     "text": [
      "2025-07-08 18:43:14.147 Thread 'MainThread': missing ScriptRunContext! This warning can be ignored when running in bare mode.\n",
      "2025-07-08 18:43:14.147 Thread 'MainThread': missing ScriptRunContext! This warning can be ignored when running in bare mode.\n",
      "2025-07-08 18:43:14.147 Thread 'MainThread': missing ScriptRunContext! This warning can be ignored when running in bare mode.\n",
      "2025-07-08 18:43:14.148 Thread 'MainThread': missing ScriptRunContext! This warning can be ignored when running in bare mode.\n",
      "2025-07-08 18:43:14.148 Thread 'MainThread': missing ScriptRunContext! This warning can be ignored when running in bare mode.\n",
      "2025-07-08 18:43:14.148 Thread 'MainThread': missing ScriptRunContext! This warning can be ignored when running in bare mode.\n",
      "2025-07-08 18:43:14.148 Thread 'MainThread': missing ScriptRunContext! This warning can be ignored when running in bare mode.\n",
      "2025-07-08 18:43:14.149 Thread 'MainThread': missing ScriptRunContext! This warning can be ignored when running in bare mode.\n",
      "2025-07-08 18:43:14.149 Thread 'MainThread': missing ScriptRunContext! This warning can be ignored when running in bare mode.\n",
      "2025-07-08 18:43:14.149 Thread 'MainThread': missing ScriptRunContext! This warning can be ignored when running in bare mode.\n",
      "2025-07-08 18:43:14.149 Thread 'MainThread': missing ScriptRunContext! This warning can be ignored when running in bare mode.\n",
      "2025-07-08 18:43:14.151 Thread 'MainThread': missing ScriptRunContext! This warning can be ignored when running in bare mode.\n",
      "2025-07-08 18:43:14.151 Thread 'MainThread': missing ScriptRunContext! This warning can be ignored when running in bare mode.\n",
      "2025-07-08 18:43:14.152 Thread 'MainThread': missing ScriptRunContext! This warning can be ignored when running in bare mode.\n",
      "2025-07-08 18:43:14.152 Thread 'MainThread': missing ScriptRunContext! This warning can be ignored when running in bare mode.\n",
      "2025-07-08 18:43:14.155 Thread 'MainThread': missing ScriptRunContext! This warning can be ignored when running in bare mode.\n",
      "2025-07-08 18:43:14.155 Thread 'MainThread': missing ScriptRunContext! This warning can be ignored when running in bare mode.\n",
      "2025-07-08 18:43:14.156 Thread 'MainThread': missing ScriptRunContext! This warning can be ignored when running in bare mode.\n",
      "2025-07-08 18:43:14.161 Thread 'MainThread': missing ScriptRunContext! This warning can be ignored when running in bare mode.\n",
      "2025-07-08 18:43:14.161 Thread 'MainThread': missing ScriptRunContext! This warning can be ignored when running in bare mode.\n",
      "2025-07-08 18:43:14.162 Thread 'MainThread': missing ScriptRunContext! This warning can be ignored when running in bare mode.\n"
     ]
    }
   ],
   "source": [
    "import warnings\n",
    "warnings.filterwarnings(\"ignore\", category=UserWarning, message=\".*ScriptRunContext.*\")\n",
    "\n",
    "\n",
    "st.set_page_config(page_title=\"RiskGuardian Dashboard\", layout=\"wide\")\n",
    "st.title(\"📊 Risk Classification Explorer — SEC Filings\")\n",
    "\n",
    "selected_company = st.selectbox(\"Choose a company to view risk breakdown:\", list(companies.keys()))\n",
    "\n",
    "risk_file = f\"../data/processed/{selected_company}_filing_risk_labels.csv\"\n",
    "\n",
    "if os.path.exists(risk_file):\n",
    "    df = pd.read_csv(risk_file)\n",
    "    st.subheader(f\"Risk Profile for {selected_company}\")\n",
    "    st.dataframe(df.style.background_gradient(cmap=\"Reds\", subset=[\"score\"]))\n",
    "    st.bar_chart(df.set_index(\"risk_label\")['score'])\n",
    "else:\n",
    "    st.warning(f\"No risk data available for {selected_company}. Please check the log or rerun earlier steps.\")"
   ]
  }
 ],
 "metadata": {
  "kernelspec": {
   "display_name": "Python 3",
   "language": "python",
   "name": "python3"
  },
  "language_info": {
   "codemirror_mode": {
    "name": "ipython",
    "version": 3
   },
   "file_extension": ".py",
   "mimetype": "text/x-python",
   "name": "python",
   "nbconvert_exporter": "python",
   "pygments_lexer": "ipython3",
   "version": "3.13.5"
  }
 },
 "nbformat": 4,
 "nbformat_minor": 5
}
